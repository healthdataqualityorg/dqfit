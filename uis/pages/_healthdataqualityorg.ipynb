{
 "cells": [
  {
   "cell_type": "markdown",
   "metadata": {},
   "source": [
    "![logo](https://storage.googleapis.com/www.healthdataquality.org/data/logo_on_white.svg)\n",
    "\n",
    "### Abstract\n",
    "A purely functional version of data quality assessment would allow real-time scoring of “fitness for use” without requiring exchange of the data. FHIR provides part of the solution, but schema conformance alone does not ensure the completeness, plausibility, or fitness for use of the data. Given the privacy, regulatory, and business risks associated with transmitting and persisting patient medical records, the DQFIT model is designed to run in a purely offline mode, eliminating the need for any PHI to go “over the wire”. Data are input as list of FHIR Bundles (a “Cohort”) and fitness for use (a \"Context\") is addressed with a set of empirically tuned weights. Completeness and plausibility are scored at the PatientLevel and CohortLevel, by measuring 1) the weighted sum of information and 2) the weighted sum of data gaps. \n",
    "\n",
    "$ \\text{Data Quality}_{context} ∝ Σ \\text{ weighted Information}/ Σ \\text{ weighted Data Gaps} $\n",
    "\n",
    "### Introduction\n",
    "\n",
    "We’ve spent a lot of money digitizing clinical data, but so far, we haven’t really gotten a return on our investment. One main reason, lack of trust in the data. For last 5-10 years, we’ve been stuck talking about data formats. Questions like: Is the data correct? Complete? Plausible? Fit for my use case? have been an afterthought. The lack of trust between parties is one of the major barriers to the adoption of value based contracts. If parties can’t agree on whats happening in the data, it’s impossible to tie financials to that data. Moving towards a value based business model requires trust. FHIR provides part of the solution, but schema conformance alone does not ensure the completeness, plausibility, or fitness for use of the data.\n",
    "\n",
    "The DQFIT Model closes this gap. \n"
   ]
  },
  {
   "cell_type": "markdown",
   "metadata": {},
   "source": [
    "### Developer Resources:\n",
    "\n",
    "[Interactive Notebook on Google CoLab](https://colab.research.google.com/drive/14F8vb-l5Xg4GdRBnkNxGNDUOCo1rOc8R#scrollTo=xQ-UdPcbI_GR)\n",
    "\n",
    "[Developer Guide](http://www.dqfit.org)\n",
    "\n",
    "[GitHub](https://github.com/healthdataqualityorg)"
   ]
  }
 ],
 "metadata": {
  "kernelspec": {
   "display_name": "Python 3.9.10 ('venv': venv)",
   "language": "python",
   "name": "python3"
  },
  "language_info": {
   "codemirror_mode": {
    "name": "ipython",
    "version": 3
   },
   "file_extension": ".py",
   "mimetype": "text/x-python",
   "name": "python",
   "nbconvert_exporter": "python",
   "pygments_lexer": "ipython3",
   "version": "3.9.10"
  },
  "orig_nbformat": 4,
  "vscode": {
   "interpreter": {
    "hash": "2cafc29d15d8b8ae4608620c88536d98717521857c8b94b092cfe47c581a5c16"
   }
  }
 },
 "nbformat": 4,
 "nbformat_minor": 2
}
