{
 "cells": [
  {
   "cell_type": "markdown",
   "metadata": {},
   "source": [
    "![logo](https://storage.googleapis.com/www.healthdataquality.org/data/fitted_logo_on_white.svg)\n",
    "\n",
    "# Trust is all you need"
   ]
  }
 ],
 "metadata": {
  "kernelspec": {
   "display_name": "Python 3.9.10 ('venv': venv)",
   "language": "python",
   "name": "python3"
  },
  "language_info": {
   "name": "python",
   "version": "3.9.10"
  },
  "orig_nbformat": 4,
  "vscode": {
   "interpreter": {
    "hash": "2cafc29d15d8b8ae4608620c88536d98717521857c8b94b092cfe47c581a5c16"
   }
  }
 },
 "nbformat": 4,
 "nbformat_minor": 2
}
