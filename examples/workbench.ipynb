{
 "cells": [
  {
   "cell_type": "code",
   "execution_count": 1,
   "metadata": {},
   "outputs": [
    {
     "data": {
      "text/plain": [
       "125"
      ]
     },
     "execution_count": 1,
     "metadata": {},
     "output_type": "execute_result"
    }
   ],
   "source": [
    "from zipfile import ZipFile\n",
    "import json\n",
    "\n",
    "zf = ZipFile(\"sample_data/cohort_synthea_100_bundles.zip\")\n",
    "bundles = [json.load(zf.open(f)) for f in zf.namelist()[1::]]\n",
    "len(bundles)"
   ]
  },
  {
   "cell_type": "code",
   "execution_count": 21,
   "metadata": {},
   "outputs": [
    {
     "data": {
      "text/plain": [
       "<Response [500]>"
      ]
     },
     "execution_count": 21,
     "metadata": {},
     "output_type": "execute_result"
    }
   ],
   "source": [
    "import requests\n",
    "\n",
    "# API_BASE = \"http://127.0.0.1:5000\"\n",
    "API_BASE = \"https://us-central1-health-data-quality-org.cloudfunctions.net\"\n",
    "endpoint = f\"{API_BASE}/dqfit-as-sls-dev-cohort-bundles-test\"\n",
    "resp = requests.post(endpoint, json={\"bundles\": bundles})\n",
    "resp.json()"
   ]
  },
  {
   "cell_type": "code",
   "execution_count": 17,
   "metadata": {},
   "outputs": [
    {
     "data": {
      "text/plain": [
       "{'dqi': 3.0,\n",
       " 'duration': 10,\n",
       " 'patient_level_score': [1,\n",
       "  4,\n",
       "  1,\n",
       "  2,\n",
       "  1,\n",
       "  1,\n",
       "  2,\n",
       "  7,\n",
       "  0,\n",
       "  1,\n",
       "  1,\n",
       "  0,\n",
       "  1,\n",
       "  2,\n",
       "  3,\n",
       "  0,\n",
       "  1,\n",
       "  5,\n",
       "  62,\n",
       "  4,\n",
       "  6,\n",
       "  4,\n",
       "  3,\n",
       "  2,\n",
       "  2,\n",
       "  3,\n",
       "  1,\n",
       "  2,\n",
       "  5,\n",
       "  10,\n",
       "  2,\n",
       "  0,\n",
       "  4,\n",
       "  1,\n",
       "  1,\n",
       "  1,\n",
       "  2,\n",
       "  4,\n",
       "  1,\n",
       "  1,\n",
       "  38,\n",
       "  4,\n",
       "  1,\n",
       "  3,\n",
       "  8,\n",
       "  6,\n",
       "  2,\n",
       "  7,\n",
       "  1,\n",
       "  4,\n",
       "  1,\n",
       "  1,\n",
       "  1,\n",
       "  2,\n",
       "  2,\n",
       "  5,\n",
       "  1,\n",
       "  1,\n",
       "  0,\n",
       "  16,\n",
       "  6,\n",
       "  1,\n",
       "  5,\n",
       "  2,\n",
       "  5,\n",
       "  1,\n",
       "  0,\n",
       "  4,\n",
       "  3,\n",
       "  6,\n",
       "  6,\n",
       "  5,\n",
       "  22,\n",
       "  1,\n",
       "  0,\n",
       "  4,\n",
       "  3,\n",
       "  4,\n",
       "  23,\n",
       "  100,\n",
       "  4,\n",
       "  1,\n",
       "  24,\n",
       "  1,\n",
       "  3,\n",
       "  9,\n",
       "  0,\n",
       "  6,\n",
       "  4,\n",
       "  3,\n",
       "  2,\n",
       "  2,\n",
       "  8,\n",
       "  10,\n",
       "  1,\n",
       "  1,\n",
       "  6,\n",
       "  8,\n",
       "  7,\n",
       "  1,\n",
       "  51,\n",
       "  4,\n",
       "  4,\n",
       "  1,\n",
       "  1,\n",
       "  6,\n",
       "  1,\n",
       "  7,\n",
       "  8,\n",
       "  1,\n",
       "  3,\n",
       "  0,\n",
       "  4,\n",
       "  5,\n",
       "  1,\n",
       "  6,\n",
       "  3,\n",
       "  1,\n",
       "  2,\n",
       "  1,\n",
       "  4,\n",
       "  3,\n",
       "  30,\n",
       "  2,\n",
       "  2]}"
      ]
     },
     "execution_count": 17,
     "metadata": {},
     "output_type": "execute_result"
    }
   ],
   "source": [
    "resp.json()"
   ]
  }
 ],
 "metadata": {
  "kernelspec": {
   "display_name": "Python 3.9.7 64-bit",
   "language": "python",
   "name": "python3"
  },
  "language_info": {
   "codemirror_mode": {
    "name": "ipython",
    "version": 3
   },
   "file_extension": ".py",
   "mimetype": "text/x-python",
   "name": "python",
   "nbconvert_exporter": "python",
   "pygments_lexer": "ipython3",
   "version": "3.9.7"
  },
  "orig_nbformat": 4,
  "vscode": {
   "interpreter": {
    "hash": "aee8b7b246df8f9039afb4144a1f6fd8d2ca17a180786b69acc140d282b71a49"
   }
  }
 },
 "nbformat": 4,
 "nbformat_minor": 2
}
